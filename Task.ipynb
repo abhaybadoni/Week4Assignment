{
 "cells": [
  {
   "cell_type": "code",
   "execution_count": 1,
   "id": "1f1283b4-936f-4ebe-8bb9-91f62f1eadb1",
   "metadata": {},
   "outputs": [
    {
     "data": {
      "text/plain": [
       "('Kia Sonet', 160, 24.1)"
      ]
     },
     "execution_count": 1,
     "metadata": {},
     "output_type": "execute_result"
    }
   ],
   "source": [
    "#Q1-\n",
    "class vehicle:\n",
    "    def __init__(self, name_of_vehicle, max_speed, average_of_vehicle):\n",
    "        self.name_of_vehicle = name_of_vehicle\n",
    "        self.max_speed = max_speed\n",
    "        self.average_of_vehicle=  average_of_vehicle\n",
    "        \n",
    "    def specs_of_vehicle(self):\n",
    "        return  self.name_of_vehicle, self.max_speed, self.average_of_vehicle\n",
    "    \n",
    "car = vehicle(\"Kia Sonet\", 160, 24.1)\n",
    "car.specs_of_vehicle()"
   ]
  },
  {
   "cell_type": "code",
   "execution_count": 3,
   "id": "22aa4df5-54d2-4691-b9ae-718197427ea6",
   "metadata": {},
   "outputs": [
    {
     "data": {
      "text/plain": [
       "('Kia Sonet', 5)"
      ]
     },
     "execution_count": 3,
     "metadata": {},
     "output_type": "execute_result"
    }
   ],
   "source": [
    "#Q2-\n",
    "class car(vehicle):\n",
    "    \n",
    "    def __init__(self, name_of_vehicle, max_speed, average_of_vehicle):\n",
    "        super().__init__(name_of_vehicle, max_speed, average_of_vehicle)\n",
    "    def seating_capacity(self, capacity):\n",
    "        self.seating_cap=capacity\n",
    "        return self.name_of_vehicle, self.seating_cap\n",
    "\n",
    "kia= car(\"Kia Sonet\", 160,24.1)\n",
    "kia.seating_capacity(5)"
   ]
  },
  {
   "cell_type": "code",
   "execution_count": 4,
   "id": "c4ce4656-5aae-4b7a-89d0-93ef906dd7bf",
   "metadata": {},
   "outputs": [
    {
     "name": "stdout",
     "output_type": "stream",
     "text": [
      "inside Class Cl1\n",
      "inside Class Cl2\n",
      "inside Class Cl3\n"
     ]
    }
   ],
   "source": [
    "#Q3 - Multiple Inheritance\n",
    "\n",
    "# It means More than one base classes can be inherited by a same Derived Class.\n",
    "\n",
    "class Cl1:\n",
    "    def print_Cl1(self):\n",
    "        print(\"inside Class Cl1\")\n",
    "        \n",
    "class Cl2:\n",
    "    def print_Cl2(self):\n",
    "        print(\"inside Class Cl2\")\n",
    "        \n",
    "class Cl3(Cl1, Cl2): # Object of C3 Derived Class can access methods of Both Base Classes Cl1 and Cl2\n",
    "    def print_Cl3(self):\n",
    "        print(\"inside Class Cl3\")\n",
    "        \n",
    "Obj_Cl3= Cl3()\n",
    "Obj_Cl3.print_Cl1()\n",
    "Obj_Cl3.print_Cl2()\n",
    "Obj_Cl3.print_Cl3()\n"
   ]
  },
  {
   "cell_type": "code",
   "execution_count": 9,
   "id": "d8a8dcd4-b7de-43b3-9f4b-26a4bae8574b",
   "metadata": {},
   "outputs": [
    {
     "name": "stdout",
     "output_type": "stream",
     "text": [
      "4200\n",
      "5000\n",
      "4000\n"
     ]
    }
   ],
   "source": [
    "#Q4-\n",
    "# 'getter' and 'setter' are used in python, for encapsulate the access and modification of the class attributes.\n",
    "# It provides a controlled access to the attributes and allow for additional logic and validation to be applied \n",
    "# while retrieving or updating their values.\n",
    "\n",
    "#Eg. -\n",
    "\n",
    "class BankAccount:\n",
    "    def __init__(self, name, ac_no, balance=0):\n",
    "        self.__name = name\n",
    "        self.__ac_no = ac_no\n",
    "        self.__balance = balance\n",
    "    \n",
    "    @property\n",
    "    def balance(self):\n",
    "        return self.__balance\n",
    "    \n",
    "    @balance.setter\n",
    "    def deposit(self, amount):\n",
    "        if amount > 0:\n",
    "            self.__balance += amount\n",
    "        else:\n",
    "            print(\"Invalid deposit amount\")\n",
    "     \n",
    "    @balance.setter\n",
    "    def withdraw(self, amount):\n",
    "        if 0 < amount <= self.__balance:\n",
    "            self.__balance -= amount\n",
    "        else:\n",
    "            print(\"Invalid withdrawal amount\")\n",
    "\n",
    "\n",
    "my_acc = BankAccount(\"Abhay Badoni\", 3892014030243, 4200)\n",
    "\n",
    "print(my_acc.balance)\n",
    "\n",
    "my_acc.deposit = 800\n",
    "print(my_acc.balance)\n",
    "\n",
    "my_acc.withdraw = 1000\n",
    "print(my_acc.balance)\n"
   ]
  },
  {
   "cell_type": "code",
   "execution_count": 7,
   "id": "bdf28daa-9261-4b92-ba36-a84eeddab380",
   "metadata": {},
   "outputs": [
    {
     "name": "stdout",
     "output_type": "stream",
     "text": [
      "Area of Rectangle: 20\n",
      "Area of Circle: 12.56\n"
     ]
    }
   ],
   "source": [
    "#Q5-\n",
    "\"\"\" Method overriding is a feature of OOPs, which gives programmer the power to use a certain method differently\n",
    "for the differet subclasses i.e. it gives its own implementation of the base class method for the various \n",
    "subclasses with the same name. By doing so subclass overrides the behavior of the method inherited from the super\n",
    "class \"\"\"\n",
    "\n",
    "#Eg-\n",
    "class Shape: #Abstract class\n",
    "    def area(self):\n",
    "        return 0\n",
    "    \n",
    "class Rectangle(Shape):\n",
    "    def __init__(self, length , width):\n",
    "        self.length = length\n",
    "        self.width = width\n",
    "        \n",
    "    def area(self): #Overriding Area Method \n",
    "        return self.length * self.width\n",
    "    \n",
    "class Circle(Shape):\n",
    "    def __init__(self, radius):\n",
    "        self.radius = radius\n",
    "        \n",
    "    def area(self):  #Overriding Area Method \n",
    "        return 3.14*(self.radius)**2\n",
    "    \n",
    "rectangle = Rectangle(5,4)\n",
    "circle = Circle(2)\n",
    "\n",
    "print(\"Area of Rectangle:\", rectangle.area())\n",
    "print(\"Area of Circle:\", circle.area())\n"
   ]
  },
  {
   "cell_type": "code",
   "execution_count": null,
   "id": "cb0ecba6-c411-4721-9bdb-467c94a2defd",
   "metadata": {},
   "outputs": [],
   "source": []
  }
 ],
 "metadata": {
  "kernelspec": {
   "display_name": "Python 3 (ipykernel)",
   "language": "python",
   "name": "python3"
  },
  "language_info": {
   "codemirror_mode": {
    "name": "ipython",
    "version": 3
   },
   "file_extension": ".py",
   "mimetype": "text/x-python",
   "name": "python",
   "nbconvert_exporter": "python",
   "pygments_lexer": "ipython3",
   "version": "3.10.8"
  }
 },
 "nbformat": 4,
 "nbformat_minor": 5
}
