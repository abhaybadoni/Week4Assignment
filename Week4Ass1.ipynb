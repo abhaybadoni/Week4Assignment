{
 "cells": [
  {
   "cell_type": "code",
   "execution_count": 3,
   "id": "6bcf40b1-43f1-4118-a894-030df9b86f6d",
   "metadata": {},
   "outputs": [
    {
     "name": "stdout",
     "output_type": "stream",
     "text": [
      "inside class C1\n"
     ]
    }
   ],
   "source": [
    "#Q1-\n",
    "\"\"\" Class - the class can be treated as a blueprint for creating a Object, it defines the structure and behaviour \n",
    "of that object.\n",
    "Object - the Object is known as instance of the class. it is created based on the Class ,i.e. A object has its own\n",
    "set of data and behaviour(methods) defined within the class it's associated \"\"\"\n",
    "\n",
    "class C1: #Class with the class name\n",
    "    #Class Methods and attributes\n",
    "    def inside_C1(self):\n",
    "        print(\"inside class C1\")\n",
    "\n",
    "Obj1 = C1()  #Object of class C1\n",
    "#using method inside the object's class\n",
    "\n",
    "Obj1.inside_C1()\n"
   ]
  },
  {
   "cell_type": "code",
   "execution_count": 4,
   "id": "f26cfba6-7411-4372-aea6-4d40b02044cd",
   "metadata": {},
   "outputs": [
    {
     "data": {
      "text/plain": [
       "' Four pillars of the OOPs-\\n1. Encapsulation\\n2. Polymorphism\\n3. Inheritance \\n4. Abstraction '"
      ]
     },
     "execution_count": 4,
     "metadata": {},
     "output_type": "execute_result"
    }
   ],
   "source": [
    "#Q2-\n",
    "\"\"\" Four pillars of the OOPs-\n",
    "1. Encapsulation\n",
    "2. Polymorphism\n",
    "3. Inheritance \n",
    "4. Abstraction \"\"\""
   ]
  },
  {
   "cell_type": "code",
   "execution_count": 10,
   "id": "eeef57bc-a8b1-4153-9387-83cf0107740e",
   "metadata": {},
   "outputs": [
    {
     "name": "stdout",
     "output_type": "stream",
     "text": [
      "Name \t\t age\n",
      "Abhay Badoni \t 21\n"
     ]
    }
   ],
   "source": [
    "#Q3-\n",
    "\"\"\" __init__() is function used to initialize the object's attributes with some values, which would be passed to it.\n",
    "its automatically got called when object of a class is created, so it is also known as 'Constructor' \"\"\"\n",
    "\n",
    "class Person:\n",
    "    def __init__(self, name , age):\n",
    "        self.name=name\n",
    "        self.age=age\n",
    "        \n",
    "    def details(self):\n",
    "        print(\"Name \\t\\t age\")\n",
    "        print(self.name,\"\\t\",self.age)\n",
    "        \n",
    "Me= Person(\"Abhay Badoni\", 21)\n",
    "Me.details()"
   ]
  },
  {
   "cell_type": "code",
   "execution_count": 11,
   "id": "36c681a1-18c9-4af5-b6de-c8d74d01e130",
   "metadata": {},
   "outputs": [
    {
     "data": {
      "text/plain": [
       "\" In OOPs 'self' is a parameter,which mostly passes as a first parameter of the most Class Methods. It is used as\\na reference to the current object being operated upon ,when want to use instance of the class within the class \\nitself \""
      ]
     },
     "execution_count": 11,
     "metadata": {},
     "output_type": "execute_result"
    }
   ],
   "source": [
    "#Q4-\n",
    "\"\"\" In OOPs 'self' is a parameter,which mostly passes as a first parameter of the most Class Methods. It is used as\n",
    "a reference to the current object being operated upon ,when want to use instance of the class within the class \n",
    "itself \"\"\""
   ]
  },
  {
   "cell_type": "code",
   "execution_count": 1,
   "id": "31749fb8-aa52-4f9b-bd22-0129b91cda38",
   "metadata": {},
   "outputs": [
    {
     "data": {
      "text/plain": [
       "' Inheritance - Inheritance is one of the Four pillars of the OOPs. it allow a new class, can said to be derived \\nclass ; to inherit properties and behaviours from the Existing class , known as Base/ Super Class. It supports\\nprogrammer in code reuse and enable to create Hirarchical Relationship between the Classes.\\nThere are Several types of inheritance in OOPs-\\n0. Single Inheritance\\n1. Multiple Inheritance\\n2. Multilevel Inheritance\\n3. Hierarchical Inheritance\\n'"
      ]
     },
     "execution_count": 1,
     "metadata": {},
     "output_type": "execute_result"
    }
   ],
   "source": [
    "#Q5-\n",
    "\"\"\" Inheritance - Inheritance is one of the Four pillars of the OOPs. it allow a new class, can said to be derived \n",
    "class ; to inherit properties and behaviours from the Existing class , known as Base/ Super Class. It supports\n",
    "programmer in code reuse and enable to create Hirarchical Relationship between the Classes.\n",
    "There are Several types of inheritance in OOPs-\n",
    "0. Single Inheritance\n",
    "1. Multiple Inheritance\n",
    "2. Multilevel Inheritance\n",
    "3. Hierarchical Inheritance\n",
    "\"\"\"\n"
   ]
  },
  {
   "cell_type": "code",
   "execution_count": 2,
   "id": "38a3f88d-6b46-40bd-b983-b9cbff9c18d1",
   "metadata": {},
   "outputs": [
    {
     "name": "stdout",
     "output_type": "stream",
     "text": [
      "Inside C1\n",
      "Inside C2\n"
     ]
    }
   ],
   "source": [
    "#0. Single Inheritance-\n",
    "class C1:\n",
    "    def print_C1(self):\n",
    "        print(\"Inside C1\")\n",
    "        \n",
    "class C2(C1):\n",
    "    def print_C2(self):\n",
    "        print(\"Inside C2\")\n",
    "        \n",
    "#let's create object of the Class C2, and we can access the method of Class C1 inside it because of single inheritance\n",
    "\n",
    "Obj_C2= C2()\n",
    "Obj_C2.print_C1()\n",
    "Obj_C2.print_C2()\n"
   ]
  },
  {
   "cell_type": "code",
   "execution_count": 5,
   "id": "f51aecb4-c69b-4bff-bbfc-736f6e0d7d2a",
   "metadata": {},
   "outputs": [
    {
     "name": "stdout",
     "output_type": "stream",
     "text": [
      "Inside C1\n",
      "Inside C2\n",
      "Inside C3\n"
     ]
    }
   ],
   "source": [
    "#2. Multilevel Inheritance\n",
    "# in addition to the inherited classes defined above we add C3 to show Multilevel Inheritance\n",
    "class C3(C2):\n",
    "    def print_C3(self):\n",
    "        print(\"Inside C3\")\n",
    "\n",
    "# As we can see that Derived class C3 is inheriting only its base class C2, but as C2 inheriting C1 .so C1 will be \n",
    "# also inherited by Class C3.\n",
    "\n",
    "#let's create an object of Class C3 and try to use method of Class C1 inside it.\n",
    "\n",
    "Obj_C3 = C3()\n",
    "Obj_C3.print_C1()\n",
    "Obj_C3.print_C2()\n",
    "Obj_C3.print_C3()\n",
    "        "
   ]
  },
  {
   "cell_type": "code",
   "execution_count": 7,
   "id": "54a7f614-2033-4fde-b005-521ddfe6c257",
   "metadata": {},
   "outputs": [
    {
     "name": "stdout",
     "output_type": "stream",
     "text": [
      "inside Class Cl1\n",
      "inside Class Cl2\n",
      "inside Class Cl3\n"
     ]
    }
   ],
   "source": [
    "# 1. Multiple Inheritance\n",
    "\n",
    "# It means More than one base classes can be inherited by a same Derived Class.\n",
    "\n",
    "class Cl1:\n",
    "    def print_Cl1(self):\n",
    "        print(\"inside Class Cl1\")\n",
    "        \n",
    "class Cl2:\n",
    "    def print_Cl2(self):\n",
    "        print(\"inside Class Cl2\")\n",
    "        \n",
    "class Cl3(Cl1, Cl2): # Object of C3 Derived Class can access methods of Both Base Classes Cl1 and Cl2\n",
    "    def print_Cl3(self):\n",
    "        print(\"inside Class Cl3\")\n",
    "        \n",
    "Obj_Cl3= Cl3()\n",
    "Obj_Cl3.print_Cl1()\n",
    "Obj_Cl3.print_Cl2()\n",
    "Obj_Cl3.print_Cl3()\n"
   ]
  },
  {
   "cell_type": "code",
   "execution_count": 9,
   "id": "675e4678-de38-4680-ab7f-5df66ccf471f",
   "metadata": {},
   "outputs": [
    {
     "name": "stdout",
     "output_type": "stream",
     "text": [
      "Inside the Base Class\n",
      "Inside the Base Class\n"
     ]
    }
   ],
   "source": [
    "# 3. Hierarchical Inheritance\n",
    "\n",
    "# in this type of inheritance a single base class Can be inherited by more than one Derived Classes\n",
    "\n",
    "class Base:\n",
    "    def print_base(self):\n",
    "        print(\"Inside the Base Class\")\n",
    "        \n",
    "class D1(Base):\n",
    "    def print_D1(self):\n",
    "        print(\"Inside the derived Class D1\")\n",
    "        \n",
    "class D2(Base):\n",
    "    def print_D2(self):\n",
    "        print(\"Inside the derived Class D2\")\n",
    "        \n",
    "# let's create objects of Derived classes D1 and D2 and try to access the method of base class\n",
    "ObjD1= D1()\n",
    "ObjD2= D2()\n",
    "ObjD1.print_base()\n",
    "ObjD2.print_base()"
   ]
  },
  {
   "cell_type": "code",
   "execution_count": null,
   "id": "2cfe146c-c35e-426c-b6ef-4f57b4acd843",
   "metadata": {},
   "outputs": [],
   "source": []
  }
 ],
 "metadata": {
  "kernelspec": {
   "display_name": "Python 3 (ipykernel)",
   "language": "python",
   "name": "python3"
  },
  "language_info": {
   "codemirror_mode": {
    "name": "ipython",
    "version": 3
   },
   "file_extension": ".py",
   "mimetype": "text/x-python",
   "name": "python",
   "nbconvert_exporter": "python",
   "pygments_lexer": "ipython3",
   "version": "3.10.8"
  }
 },
 "nbformat": 4,
 "nbformat_minor": 5
}
