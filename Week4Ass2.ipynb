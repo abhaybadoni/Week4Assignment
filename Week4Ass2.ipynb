{
 "cells": [
  {
   "cell_type": "code",
   "execution_count": 1,
   "id": "69e87b22-a862-4d00-89cc-3eff760a6f9d",
   "metadata": {},
   "outputs": [
    {
     "name": "stdout",
     "output_type": "stream",
     "text": [
      "Area of Rectangle: 20\n",
      "Area of Circle: 12.56\n"
     ]
    }
   ],
   "source": [
    "#Q1-\n",
    "\"\"\" Abstraction is a fundamental principles of OOPs that allows us to represent\n",
    "complex systems by simplifying and focusing on essential details while hiding\n",
    "unnecessary complexities. It defines a common interface for all its subclasses,\n",
    "specifying a set of methods that must be implemented. \"\"\"\n",
    "import abc\n",
    "class Shape: #Abstract class\n",
    "    \n",
    "    @abc.abstractmethod\n",
    "    def area(self):\n",
    "        pass\n",
    "    \n",
    "class Rectangle(Shape):\n",
    "    def __init__(self, length , width):\n",
    "        self.length = length\n",
    "        self.width = width\n",
    "        \n",
    "    def area(self):  \n",
    "        return self.length * self.width\n",
    "    \n",
    "class Circle(Shape):\n",
    "    def __init__(self, radius):\n",
    "        self.radius = radius\n",
    "        \n",
    "    def area(self): \n",
    "        return 3.14*(self.radius)**2\n",
    "    \n",
    "rectangle = Rectangle(5,4)\n",
    "circle = Circle(2)\n",
    "\n",
    "print(\"Area of Rectangle:\", rectangle.area())\n",
    "print(\"Area of Circle:\", circle.area())\n"
   ]
  },
  {
   "cell_type": "code",
   "execution_count": 6,
   "id": "a43710b3-802c-4fbd-9efa-655644fd358e",
   "metadata": {},
   "outputs": [
    {
     "name": "stdout",
     "output_type": "stream",
     "text": [
      "Dog Name: Sheru\n",
      "Dog Sound: Bhaww!\n",
      "Cat Name: Kitty\n",
      "Cat Sound: Meaw!\n"
     ]
    }
   ],
   "source": [
    "#Q2-\n",
    "\"\"\"\n",
    "Abstraction:\n",
    "1. Abstraction focuses on providing a simplified view of an entity by hiding \n",
    "unnecessary details and exposing only essential features.\n",
    "2. It is achieved through abstract classes and interfaces.\n",
    "3. Abstraction allows us to define a common interface or contract that must be\n",
    "followed by its subclasses.\n",
    "\n",
    "Encapsulation:\n",
    "\n",
    "1. Encapsulation is the process of bundling data and methods that operate on \n",
    "that data within a single unit (class).\n",
    "2. It involves hiding the internal state of an object and providing controlled \n",
    "access to it through methods.\n",
    "3. Encapsulation helps achieve data protection, security, and modularity in the\n",
    "code.\n",
    "\"\"\"\n",
    "#Eg.-\n",
    "import abc\n",
    "\n",
    "class Animal():\n",
    "    def __init__(self, name):\n",
    "        self.__name = name #example of encapsulation as name is encapsulated\n",
    "\n",
    "    @abc.abstractmethod  #example of abstraction \n",
    "    def make_sound(self):\n",
    "        pass\n",
    "\n",
    "    def get_name(self):\n",
    "        return self.__name\n",
    "\n",
    "class Dog(Animal):\n",
    "    def make_sound(self):\n",
    "        return \"Bhaww!\"\n",
    "\n",
    "class Cat(Animal):\n",
    "    def make_sound(self):\n",
    "        return \"Meaw!\"\n",
    "\n",
    "dog = Dog(\"Sheru\")\n",
    "print(\"Dog Name:\", dog.get_name())\n",
    "print(\"Dog Sound:\", dog.make_sound())\n",
    "\n",
    "cat = Cat(\"Kitty\")\n",
    "print(\"Cat Name:\", cat.get_name())\n",
    "print(\"Cat Sound:\", cat.make_sound())\n"
   ]
  },
  {
   "cell_type": "code",
   "execution_count": null,
   "id": "fc726dd8-ede8-4e21-b194-ffeee630e02a",
   "metadata": {},
   "outputs": [],
   "source": [
    "#Q3-\n",
    "\"\"\"\n",
    "The 'abc' module in Python stands for \"Abstract Base Classes.\" It provides \n",
    "infrastructure for defining abstract base classes in Python. ABCs are classes \n",
    "that cannot be instantiated directly but serve as a template or contract for\n",
    "derived classes.\n",
    "\n",
    "The abc module is used to create abstract base classes and enforce a certain \n",
    "interface or set of methods that derived classes must implement.The 'abc' module\n",
    "is commonly used in scenarios where we want to define common behavior, ensure\n",
    "a certain structure or interface, and promote polymorphism among related classes. \n",
    "\"\"\"\n"
   ]
  },
  {
   "cell_type": "code",
   "execution_count": null,
   "id": "b7609299-e912-4474-b6ec-fc9fdfb7ef05",
   "metadata": {},
   "outputs": [],
   "source": [
    "#Q4-\n",
    "\"\"\"\n",
    "Data abstraction can be achieved in Python through various mechanisms, such as\n",
    "using classes, encapsulation, and access modifiers:\n",
    "\n",
    "1. Classes: Classes in Python provide a way to define a blueprint for objects. \n",
    "By defining classes, we can encapsulate data and behavior together, allowing \n",
    "us to abstract away the implementation details and expose only essential \n",
    "information.\n",
    "\n",
    "2. Encapsulation: Encapsulation is the process of bundling data and methods \n",
    "that operate on that data within a single unit (class). By encapsulating data,\n",
    "we can hide the internal representation and implementation details, exposing\n",
    "only the necessary methods to interact with the data. This way, we achieve data\n",
    "abstraction by providing a simplified and controlled interface to access and \n",
    "manipulate the data.\n",
    "\n",
    "Access Modifiers: Python does not have strict access modifiers like some other\n",
    "programming languages (e.g., public, private, protected). However, we can \n",
    "achieve a form of data abstraction by using naming conventions and conventions\n",
    "of data accessibility. Prefixing an attribute or method with a single underscore\n",
    "(_) indicates that it should be treated as a non-public(protected) or internal \n",
    "implementation detail, encouraging users to use the public interface instead. \n",
    "Prefixing with a double underscore (__) invokes name mangling, making the \n",
    "attribute or method more strongly private.\n",
    "\n",
    "\"\"\""
   ]
  },
  {
   "cell_type": "code",
   "execution_count": 7,
   "id": "2fd8e8ea-2321-4a8d-a494-a7cae4c5991f",
   "metadata": {},
   "outputs": [
    {
     "ename": "TypeError",
     "evalue": "Can't instantiate abstract class AbstractClass with abstract method abstract_method",
     "output_type": "error",
     "traceback": [
      "\u001b[0;31m---------------------------------------------------------------------------\u001b[0m",
      "\u001b[0;31mTypeError\u001b[0m                                 Traceback (most recent call last)",
      "Cell \u001b[0;32mIn[7], line 22\u001b[0m\n\u001b[1;32m     17\u001b[0m     \u001b[38;5;129m@abc\u001b[39m\u001b[38;5;241m.\u001b[39mabstractmethod\n\u001b[1;32m     18\u001b[0m     \u001b[38;5;28;01mdef\u001b[39;00m \u001b[38;5;21mabstract_method\u001b[39m(\u001b[38;5;28mself\u001b[39m):\n\u001b[1;32m     19\u001b[0m         \u001b[38;5;28;01mpass\u001b[39;00m\n\u001b[0;32m---> 22\u001b[0m instance \u001b[38;5;241m=\u001b[39m \u001b[43mAbstractClass\u001b[49m\u001b[43m(\u001b[49m\u001b[43m)\u001b[49m \n",
      "\u001b[0;31mTypeError\u001b[0m: Can't instantiate abstract class AbstractClass with abstract method abstract_method"
     ]
    }
   ],
   "source": [
    "#Q5-\n",
    "\"\"\"\n",
    "No, we cannot create an instance of an abstract class in Python. Abstract\n",
    "classes are meant to be used as blueprints for other classes and cannot be\n",
    "instantiated directly.\n",
    "\n",
    "An abstract class is a class that contains one or more abstract methods. \n",
    "An abstract method is a method that is declared in the abstract class but does\n",
    "not have an implementation. It serves as a placeholder for the method that must\n",
    "be implemented by the derived classes.\n",
    "\n",
    "\"\"\"\n",
    "#eg.-\n",
    "import abc\n",
    "\n",
    "class AbstractClass(ABC):\n",
    "    @abc.abstractmethod\n",
    "    def abstract_method(self):\n",
    "        pass\n",
    "\n",
    "\n",
    "instance = AbstractClass() \n"
   ]
  },
  {
   "cell_type": "code",
   "execution_count": null,
   "id": "b5e0ae74-89ed-4a01-8a02-321e8155182b",
   "metadata": {},
   "outputs": [],
   "source": []
  }
 ],
 "metadata": {
  "kernelspec": {
   "display_name": "Python 3 (ipykernel)",
   "language": "python",
   "name": "python3"
  },
  "language_info": {
   "codemirror_mode": {
    "name": "ipython",
    "version": 3
   },
   "file_extension": ".py",
   "mimetype": "text/x-python",
   "name": "python",
   "nbconvert_exporter": "python",
   "pygments_lexer": "ipython3",
   "version": "3.10.8"
  }
 },
 "nbformat": 4,
 "nbformat_minor": 5
}
